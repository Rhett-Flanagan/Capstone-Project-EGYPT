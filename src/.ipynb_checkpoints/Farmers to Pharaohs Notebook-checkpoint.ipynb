{
 "cells": [
  {
   "cell_type": "markdown",
   "metadata": {},
   "source": [
    "# The Egypt Simulation Model\n",
    "\n",
    "## An Overview of the Mesa library\n",
    "\n",
    "Mesa is a Pythonic agent-based modelling framework. It provides for simple, extensible structures to create a simulation model using agents both on and off a spacial plane through inheritance. Mesa also provides an extensible tool to create a visualisation of a model and display graphs of data collected from said model.\n",
    "\n",
    "This notebook will provide a brief introductory tutorial to Mesa while detailing the setup of the of the model. More details on Mesa and a tutorial on its use can be found here: https://mesa.readthedocs.io/en/master/overview.html"
   ]
  },
  {
   "cell_type": "markdown",
   "metadata": {},
   "source": [
    "## Creating the model\n",
    "\n",
    "### Imports\n",
    "Before we begin creating the model we first need to handle general imports that will be needed for its use. Specific Mesa imports will be handled and explained in the classes in which they are relevant."
   ]
  },
  {
   "cell_type": "code",
   "execution_count": 1,
   "metadata": {},
   "outputs": [],
   "source": [
    "import math\n",
    "import random\n",
    "from collections import defaultdict\n",
    "\n",
    "import numpy as np\n",
    "import pandas\n",
    "\n",
    "import matplotlib.pyplot as plt\n",
    "%matplotlib inline"
   ]
  },
  {
   "cell_type": "markdown",
   "metadata": {},
   "source": [
    "### The Agents\n",
    "Agents are the basis on which both Mesa and the model operate, using them to interact with model parameters and perform tasks. To create the agents the Mesa \"Agent\" class structure needs to be imported and implemented to perform the functionality required from the given agent."
   ]
  },
  {
   "cell_type": "code",
   "execution_count": 2,
   "metadata": {},
   "outputs": [],
   "source": [
    "from mesa import Agent"
   ]
  },
  {
   "cell_type": "markdown",
   "metadata": {},
   "source": [
    "#### Tiles\n",
    "First a basic agent that will be inherited by subsequient agents to represent the map \"tiles\", which can be Settlements, Rivers or Fields and are defined below, needs to be created.\n",
    "\n",
    "The Tile has a pos tuple to contain its position on the grid, a boolean to know if the tile is considered settlement territory and a boolean t know if the tile is owned by a Household. Households and Settlements will be expanded on later.\n",
    "\n",
    "Note that the step function is empty. The step function is called to make an agent do what it needs to do on each model \"tick\", but as a Tile is just a generic agent that will be extended to be used later, the function is left as a stub for child classes to implement as needed."
   ]
  },
  {
   "cell_type": "code",
   "execution_count": 3,
   "metadata": {},
   "outputs": [],
   "source": [
    "class Tile(Agent):\n",
    "    \"\"\"\n",
    "    Class implementing the functionality of an patch in a NetLogo.\n",
    "\n",
    "    Not indended to be used on its own, but to inherit its methods to multiple\n",
    "    other agents.\n",
    "    \"\"\"\n",
    "\n",
    "    pos = (0, 0)\n",
    "    settlementTerritory = False\n",
    "    owned = False\n",
    "\n",
    "    def __init__(self, unique_id, model, pos: tuple):\n",
    "        '''\n",
    "        Create a new Tile\n",
    "\n",
    "        Args:\n",
    "            pos: Tuple representing the position of the agent on a grid\n",
    "            model: The model in which the agent is being used\n",
    "        '''\n",
    "        super().__init__(unique_id, model)\n",
    "        self.pos = pos\n",
    "\n",
    "    def step(self):\n",
    "        pass"
   ]
  },
  {
   "cell_type": "markdown",
   "metadata": {},
   "source": [
    "### Rivers\n",
    "The first type of tile that is implemened will be a River tile. In the current model a river is an area on which Households cannot farm nor claim the land and as such is a stub implementation of the Tile class and does not implement any further on it.\n",
    "\n",
    "An extension to the model may wish to include ideas such as fishing as a manner in which households can gain food or trade in which boats travelling the river can be used to obtain better profits than land based trading, and as such the River class was created as a stub."
   ]
  },
  {
   "cell_type": "code",
   "execution_count": 4,
   "metadata": {},
   "outputs": [],
   "source": [
    "class River(Tile):\n",
    "    \"\"\"\n",
    "    River agent, currently does nothing and is used only as an identifier\n",
    "    \"\"\"\n",
    "\n",
    "    def __init__(self, unique_id, model, pos: tuple):\n",
    "        '''\n",
    "        Create a new River\n",
    "\n",
    "        Args:\n",
    "            pos: Tuple representing the position of the agent on a grid\n",
    "            model: The model in which the agent is being used\n",
    "        '''\n",
    "        super().__init__(unique_id, model, pos)"
   ]
  },
  {
   "cell_type": "markdown",
   "metadata": {},
   "source": [
    "### Fields\n",
    "Fields are the second implementation of teh Tile class and are one of the main interacting agents in the model. They are farmed by Households so the Households can grow their wealth, and have their fertility values change in a manner such that the annual floods of the Nile are simulated.\n",
    "\n",
    "Fields fave fertlity values that impact the harvest that can be obtained from them, an average fertility value that can be used in extensions and a number of years that they have lain fallow, which is used to determine if a Household must relinquish its ownership of the Field.\n",
    "\n",
    "Extensions to the model may wish to alter the change in fertility values in a manner such that the Fields more closely mirror reality in that repeated crop growth cycles cause the fertility value to decrease, the floods provide a bonus to the Fields fertility and leaving the Field fallow will allow it to recover. To further such an extension livestock grazing could be implemented to help Fields recover faster through manure fertilisation. This type of extension could be used in conjunction with machine learning principles in the Household agents to investigate if Households could learn concepts such as crop rotation, and determine the effects that such would have on the wealth growth of a household."
   ]
  },
  {
   "cell_type": "code",
   "execution_count": 5,
   "metadata": {},
   "outputs": [],
   "source": [
    "class Field(Tile):\n",
    "    \"\"\"\n",
    "    Field agent, can be farmed by households and have changing fertility values and owners\n",
    "    \"\"\"\n",
    "\n",
    "    fertility = 0.0\n",
    "    avf = 0.0\n",
    "    yearsFallow = 0\n",
    "\n",
    "    def __init__(self, unique_id, model, pos: tuple = (0, 0), fertility: float = 0.0):\n",
    "        '''\n",
    "        Create a new Field\n",
    "\n",
    "        Args:\n",
    "            pos: Tuple representing the position of the agent on a grid\n",
    "            model: The model in which the agent is being used\n",
    "            fertility: The starting fertility of the field\n",
    "        '''\n",
    "        super().__init__(unique_id, model, pos)\n",
    "        self.fertility = fertility\n",
    "        self.avf = fertility\n",
    "        self.yearsFallow = 0\n",
    "\n",
    "    def flood(self):\n",
    "        \"\"\"\n",
    "        Changes the fertility value simulating annual flood\n",
    "        \"\"\"\n",
    "        mu = self.model.mu\n",
    "        # sigma = self.model.sigma\n",
    "        alpha = self.model.alpha\n",
    "        beta = self.model.beta\n",
    "        ticks = self.model.currentTime\n",
    "\n",
    "        self.fertility = 17 * (beta * (math.exp(0 - (self.pos[0] - mu) ** 2 / alpha)))\n",
    "        self.avf = ((ticks * self.avf) + self.fertility) / (ticks + 1)\n",
    "        self.harvested = False\n",
    "\n",
    "    def step(self):\n",
    "        self.flood()"
   ]
  },
  {
   "cell_type": "markdown",
   "metadata": {},
   "source": [
    "### Settlements\n",
    "\n"
   ]
  }
 ],
 "metadata": {
  "kernelspec": {
   "display_name": "Python 3",
   "language": "python",
   "name": "python3"
  },
  "language_info": {
   "codemirror_mode": {
    "name": "ipython",
    "version": 3
   },
   "file_extension": ".py",
   "mimetype": "text/x-python",
   "name": "python",
   "nbconvert_exporter": "python",
   "pygments_lexer": "ipython3",
   "version": "3.7.3"
  }
 },
 "nbformat": 4,
 "nbformat_minor": 2
}
